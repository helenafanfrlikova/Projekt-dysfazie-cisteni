{
 "cells": [
  {
   "cell_type": "code",
   "execution_count": 34,
   "metadata": {},
   "outputs": [
    {
     "data": {
      "text/plain": [
       "(881, 10)"
      ]
     },
     "execution_count": 34,
     "metadata": {},
     "output_type": "execute_result"
    }
   ],
   "source": [
    "import pandas as pd\n",
    "df = pd.read_csv('union_pyth_clean_NOVA.csv')\n",
    "df.shape"
   ]
  },
  {
   "attachments": {},
   "cell_type": "markdown",
   "metadata": {},
   "source": [
    "Vymazání položek obsahující substringy typu škola, klub apod."
   ]
  },
  {
   "cell_type": "code",
   "execution_count": 35,
   "metadata": {},
   "outputs": [],
   "source": [
    "#SMAZÁNÍ všech položek obsahujicich ve sloupci NazevZarizeni substring \"škol\"\n",
    "import re\n",
    "search_pattern = re.compile(r'škol', flags=re.IGNORECASE)\n",
    "rows_to_delete = df[df['NazevZarizeni'].apply(lambda x: bool(search_pattern.search(str(x))))].index\n",
    "df = df.drop(rows_to_delete)"
   ]
  },
  {
   "cell_type": "code",
   "execution_count": 37,
   "metadata": {},
   "outputs": [],
   "source": [
    "#SMAZÁNÍ všech položek obsahujicich ve sloupci Web substring \"skol\"\n",
    "import re\n",
    "search_pattern = re.compile(r'skol', flags=re.IGNORECASE)\n",
    "rows_to_delete = df[df['Web'].apply(lambda x: bool(search_pattern.search(str(x))))].index\n",
    "df = df.drop(rows_to_delete)"
   ]
  },
  {
   "cell_type": "code",
   "execution_count": 39,
   "metadata": {},
   "outputs": [],
   "source": [
    "# Smazani radku obsahujiciho \"Klub\" ve sloupci NazevZarizeni\n",
    "search_string = \"Klub\"\n",
    "df = df[~df['NazevZarizeni'].apply(lambda x: search_string.lower() in str(x).lower())]\n"
   ]
  },
  {
   "attachments": {},
   "cell_type": "markdown",
   "metadata": {},
   "source": [
    "Vyhledani a smazani duplicit c. 1"
   ]
  },
  {
   "cell_type": "code",
   "execution_count": 41,
   "metadata": {},
   "outputs": [
    {
     "data": {
      "text/plain": [
       "(318, 10)"
      ]
     },
     "execution_count": 41,
     "metadata": {},
     "output_type": "execute_result"
    }
   ],
   "source": [
    "#VYHLEDÁNÍ všech duplicit klin+neklin bez nazvu (keep=False zajistí zachování všech řádků) ve sloupcich NazevZarizeni PscZarizeni\tUliceZarizeni\tCisloDomovniOrientacni\n",
    "dupl_found1 = df[df.duplicated(subset=['PscZarizeni', 'UliceZarizeni', 'CisloDomovniOrientacni'], keep=False) & df['UliceZarizeni'].notnull()].sort_values('CisloDomovniOrientacni')\n",
    "dupl_found1.shape\n",
    "#Toto jsou skutecne duplicity mezi obema datasety a budou vymazany nize"
   ]
  },
  {
   "cell_type": "code",
   "execution_count": 42,
   "metadata": {},
   "outputs": [
    {
     "data": {
      "text/plain": [
       "131"
      ]
     },
     "execution_count": 42,
     "metadata": {},
     "output_type": "execute_result"
    }
   ],
   "source": [
    "#Specifikace (a ulozeni do promenne) radku ze souboru neklinickych (s nazvem), ktere jsou duplicitni s klinickymi, a proto budou smazany\n",
    "to_drop_1 = df[df.duplicated(subset=['PscZarizeni', 'UliceZarizeni', 'CisloDomovniOrientacni'], keep=False) & df['UliceZarizeni'].notnull() & (df['ODBORNOST'] == \"LogopedieF\")]\n",
    "#Pocet radku z neklin vymazanych jako duplicity klin/neklin\n",
    "len(to_drop_1)"
   ]
  },
  {
   "cell_type": "code",
   "execution_count": 43,
   "metadata": {},
   "outputs": [],
   "source": [
    "#Smazani duplicit klinicky/neklinicky 1., smazan radek neklinickych\n",
    "df.drop(to_drop_1.index, inplace=True)"
   ]
  },
  {
   "attachments": {},
   "cell_type": "markdown",
   "metadata": {},
   "source": [
    "Vyhledani a smazani duplicit c. 2"
   ]
  },
  {
   "cell_type": "code",
   "execution_count": 45,
   "metadata": {},
   "outputs": [
    {
     "data": {
      "text/html": [
       "<div>\n",
       "<style scoped>\n",
       "    .dataframe tbody tr th:only-of-type {\n",
       "        vertical-align: middle;\n",
       "    }\n",
       "\n",
       "    .dataframe tbody tr th {\n",
       "        vertical-align: top;\n",
       "    }\n",
       "\n",
       "    .dataframe thead th {\n",
       "        text-align: right;\n",
       "    }\n",
       "</style>\n",
       "<table border=\"1\" class=\"dataframe\">\n",
       "  <thead>\n",
       "    <tr style=\"text-align: right;\">\n",
       "      <th></th>\n",
       "      <th>NazevZarizeni</th>\n",
       "      <th>ObecZarizeni</th>\n",
       "      <th>PscZarizeni</th>\n",
       "      <th>UliceZarizeni</th>\n",
       "      <th>CisloDomovniOrientacni</th>\n",
       "      <th>Telefon</th>\n",
       "      <th>Web</th>\n",
       "      <th>LatZarizeni</th>\n",
       "      <th>LngZarizeni</th>\n",
       "      <th>ODBORNOST</th>\n",
       "    </tr>\n",
       "  </thead>\n",
       "  <tbody>\n",
       "    <tr>\n",
       "      <th>36</th>\n",
       "      <td>Mgr. Petra Malíková</td>\n",
       "      <td>Luže, Košumberk</td>\n",
       "      <td>53854</td>\n",
       "      <td>NaN</td>\n",
       "      <td>44</td>\n",
       "      <td>775130244</td>\n",
       "      <td>web neuveden</td>\n",
       "      <td>49.883465</td>\n",
       "      <td>16.039850</td>\n",
       "      <td>LogopedieF</td>\n",
       "    </tr>\n",
       "    <tr>\n",
       "      <th>740</th>\n",
       "      <td>Mgr. Petra Malíková</td>\n",
       "      <td>Luže</td>\n",
       "      <td>53854</td>\n",
       "      <td>NaN</td>\n",
       "      <td>44</td>\n",
       "      <td>+420775130244</td>\n",
       "      <td>web neuveden</td>\n",
       "      <td>49.883458</td>\n",
       "      <td>16.039847</td>\n",
       "      <td>logopedie</td>\n",
       "    </tr>\n",
       "  </tbody>\n",
       "</table>\n",
       "</div>"
      ],
      "text/plain": [
       "           NazevZarizeni     ObecZarizeni  PscZarizeni UliceZarizeni   \n",
       "36   Mgr. Petra Malíková  Luže, Košumberk        53854           NaN  \\\n",
       "740  Mgr. Petra Malíková             Luže        53854           NaN   \n",
       "\n",
       "    CisloDomovniOrientacni        Telefon           Web  LatZarizeni   \n",
       "36                      44      775130244  web neuveden    49.883465  \\\n",
       "740                     44  +420775130244  web neuveden    49.883458   \n",
       "\n",
       "     LngZarizeni   ODBORNOST  \n",
       "36     16.039850  LogopedieF  \n",
       "740    16.039847   logopedie  "
      ]
     },
     "execution_count": 45,
     "metadata": {},
     "output_type": "execute_result"
    }
   ],
   "source": [
    "#VYHLEDÁNÍ všech duplicit klin+neklin bez ulice s nazvem (keep=False zajistí zachování všech řádků)\n",
    "dupl_found2 = df[df.duplicated(subset=['NazevZarizeni','PscZarizeni', 'CisloDomovniOrientacni'], keep=False)].sort_values('CisloDomovniOrientacni')\n",
    "dupl_found2\n",
    "#Toto jsou skutecne duplicity mezi obema datasety a budou vymazany nize"
   ]
  },
  {
   "cell_type": "code",
   "execution_count": 46,
   "metadata": {},
   "outputs": [
    {
     "data": {
      "text/plain": [
       "1"
      ]
     },
     "execution_count": 46,
     "metadata": {},
     "output_type": "execute_result"
    }
   ],
   "source": [
    "#Specifikace (a ulozeni do promenne) radku ze souboru neklinickych (s nazvem), ktere jsou duplicitni s klinickymi, a proto budou smazany\n",
    "to_drop_2 = df[df.duplicated(subset=['NazevZarizeni', 'PscZarizeni', 'CisloDomovniOrientacni'], keep=False) & (df['ODBORNOST'] == \"LogopedieF\")]\n",
    "#Pocet radku z neklin vymazanych jako duplicity klin/neklin\n",
    "len(to_drop_2)"
   ]
  },
  {
   "cell_type": "code",
   "execution_count": 47,
   "metadata": {},
   "outputs": [],
   "source": [
    "df.drop(to_drop_2.index, inplace=True)"
   ]
  },
  {
   "attachments": {},
   "cell_type": "markdown",
   "metadata": {},
   "source": [
    "Vyhledani a smazani duplicit c. 3"
   ]
  },
  {
   "cell_type": "code",
   "execution_count": 49,
   "metadata": {},
   "outputs": [
    {
     "data": {
      "text/html": [
       "<div>\n",
       "<style scoped>\n",
       "    .dataframe tbody tr th:only-of-type {\n",
       "        vertical-align: middle;\n",
       "    }\n",
       "\n",
       "    .dataframe tbody tr th {\n",
       "        vertical-align: top;\n",
       "    }\n",
       "\n",
       "    .dataframe thead th {\n",
       "        text-align: right;\n",
       "    }\n",
       "</style>\n",
       "<table border=\"1\" class=\"dataframe\">\n",
       "  <thead>\n",
       "    <tr style=\"text-align: right;\">\n",
       "      <th></th>\n",
       "      <th>NazevZarizeni</th>\n",
       "      <th>ObecZarizeni</th>\n",
       "      <th>PscZarizeni</th>\n",
       "      <th>UliceZarizeni</th>\n",
       "      <th>CisloDomovniOrientacni</th>\n",
       "      <th>Telefon</th>\n",
       "      <th>Web</th>\n",
       "      <th>LatZarizeni</th>\n",
       "      <th>LngZarizeni</th>\n",
       "      <th>ODBORNOST</th>\n",
       "    </tr>\n",
       "  </thead>\n",
       "  <tbody>\n",
       "    <tr>\n",
       "      <th>572</th>\n",
       "      <td>Logopedická ambulance Centrum řeči s.r.o.</td>\n",
       "      <td>České Budějovice</td>\n",
       "      <td>37001</td>\n",
       "      <td>J. Š. Baara</td>\n",
       "      <td>1686/67</td>\n",
       "      <td>+420777302135</td>\n",
       "      <td>logopedie-ritterova.cz</td>\n",
       "      <td>48.979293</td>\n",
       "      <td>14.484338</td>\n",
       "      <td>logopedie</td>\n",
       "    </tr>\n",
       "    <tr>\n",
       "      <th>574</th>\n",
       "      <td>Logopedická ambulance Centrum řeči s.r.o.</td>\n",
       "      <td>České Budějovice</td>\n",
       "      <td>37001</td>\n",
       "      <td>J. Š. Baara</td>\n",
       "      <td>1685/65</td>\n",
       "      <td>+420777302135</td>\n",
       "      <td>logopedie-ritterova.cz</td>\n",
       "      <td>48.979310</td>\n",
       "      <td>14.484172</td>\n",
       "      <td>logopedie</td>\n",
       "    </tr>\n",
       "    <tr>\n",
       "      <th>272</th>\n",
       "      <td>Mgr. Elsa Císařová</td>\n",
       "      <td>Teplice</td>\n",
       "      <td>41501</td>\n",
       "      <td>Lípová</td>\n",
       "      <td>738</td>\n",
       "      <td>417977714</td>\n",
       "      <td>web neuveden</td>\n",
       "      <td>50.641602</td>\n",
       "      <td>13.836818</td>\n",
       "      <td>LogopedieF</td>\n",
       "    </tr>\n",
       "    <tr>\n",
       "      <th>280</th>\n",
       "      <td>Mgr. Elsa Císařová</td>\n",
       "      <td>Teplice</td>\n",
       "      <td>41501</td>\n",
       "      <td>Lípová</td>\n",
       "      <td>239/2</td>\n",
       "      <td>417977714</td>\n",
       "      <td>web neuveden</td>\n",
       "      <td>50.640995</td>\n",
       "      <td>13.835943</td>\n",
       "      <td>LogopedieF</td>\n",
       "    </tr>\n",
       "    <tr>\n",
       "      <th>391</th>\n",
       "      <td>PhDr. Jana Tláskalová</td>\n",
       "      <td>Vimperk</td>\n",
       "      <td>38501</td>\n",
       "      <td>1. máje</td>\n",
       "      <td>127/23</td>\n",
       "      <td>+420723442744</td>\n",
       "      <td>web neuveden</td>\n",
       "      <td>49.055923</td>\n",
       "      <td>13.780989</td>\n",
       "      <td>logopedie</td>\n",
       "    </tr>\n",
       "    <tr>\n",
       "      <th>780</th>\n",
       "      <td>PhDr. Jana Tláskalová</td>\n",
       "      <td>Vimperk</td>\n",
       "      <td>38501</td>\n",
       "      <td>1. máje</td>\n",
       "      <td>268/14</td>\n",
       "      <td>+420723442744</td>\n",
       "      <td>web neuveden</td>\n",
       "      <td>49.054836</td>\n",
       "      <td>13.779091</td>\n",
       "      <td>logopedie</td>\n",
       "    </tr>\n",
       "  </tbody>\n",
       "</table>\n",
       "</div>"
      ],
      "text/plain": [
       "                                 NazevZarizeni      ObecZarizeni  PscZarizeni   \n",
       "572  Logopedická ambulance Centrum řeči s.r.o.  České Budějovice        37001  \\\n",
       "574  Logopedická ambulance Centrum řeči s.r.o.  České Budějovice        37001   \n",
       "272                         Mgr. Elsa Císařová           Teplice        41501   \n",
       "280                         Mgr. Elsa Císařová           Teplice        41501   \n",
       "391                      PhDr. Jana Tláskalová           Vimperk        38501   \n",
       "780                      PhDr. Jana Tláskalová           Vimperk        38501   \n",
       "\n",
       "    UliceZarizeni CisloDomovniOrientacni        Telefon   \n",
       "572   J. Š. Baara                1686/67  +420777302135  \\\n",
       "574   J. Š. Baara                1685/65  +420777302135   \n",
       "272        Lípová                    738      417977714   \n",
       "280        Lípová                  239/2      417977714   \n",
       "391       1. máje                 127/23  +420723442744   \n",
       "780       1. máje                 268/14  +420723442744   \n",
       "\n",
       "                        Web  LatZarizeni  LngZarizeni   ODBORNOST  \n",
       "572  logopedie-ritterova.cz    48.979293    14.484338   logopedie  \n",
       "574  logopedie-ritterova.cz    48.979310    14.484172   logopedie  \n",
       "272            web neuveden    50.641602    13.836818  LogopedieF  \n",
       "280            web neuveden    50.640995    13.835943  LogopedieF  \n",
       "391            web neuveden    49.055923    13.780989   logopedie  \n",
       "780            web neuveden    49.054836    13.779091   logopedie  "
      ]
     },
     "execution_count": 49,
     "metadata": {},
     "output_type": "execute_result"
    }
   ],
   "source": [
    "#VYHLEDÁNÍ všech duplicit klin+neklin\n",
    "dupl_found3 = df[df.duplicated(subset=['NazevZarizeni', 'ObecZarizeni', 'UliceZarizeni', 'Telefon'], keep=False) & ~df['Telefon'].str.contains('telefon neuveden') & df['UliceZarizeni'].notnull()].sort_values('NazevZarizeni')\n",
    "# liší se pouze v čísle domu, nutné jeden záznam smazat (Míša) - Budějovice č. 65 smazat, Vimperk  č. 268/14\tsmazat - podle pokynů Míši\n",
    "dupl_found3"
   ]
  },
  {
   "cell_type": "code",
   "execution_count": 50,
   "metadata": {},
   "outputs": [
    {
     "data": {
      "text/html": [
       "<div>\n",
       "<style scoped>\n",
       "    .dataframe tbody tr th:only-of-type {\n",
       "        vertical-align: middle;\n",
       "    }\n",
       "\n",
       "    .dataframe tbody tr th {\n",
       "        vertical-align: top;\n",
       "    }\n",
       "\n",
       "    .dataframe thead th {\n",
       "        text-align: right;\n",
       "    }\n",
       "</style>\n",
       "<table border=\"1\" class=\"dataframe\">\n",
       "  <thead>\n",
       "    <tr style=\"text-align: right;\">\n",
       "      <th></th>\n",
       "      <th>NazevZarizeni</th>\n",
       "      <th>ObecZarizeni</th>\n",
       "      <th>PscZarizeni</th>\n",
       "      <th>UliceZarizeni</th>\n",
       "      <th>CisloDomovniOrientacni</th>\n",
       "      <th>Telefon</th>\n",
       "      <th>Web</th>\n",
       "      <th>LatZarizeni</th>\n",
       "      <th>LngZarizeni</th>\n",
       "      <th>ODBORNOST</th>\n",
       "    </tr>\n",
       "  </thead>\n",
       "  <tbody>\n",
       "    <tr>\n",
       "      <th>272</th>\n",
       "      <td>Mgr. Elsa Císařová</td>\n",
       "      <td>Teplice</td>\n",
       "      <td>41501</td>\n",
       "      <td>Lípová</td>\n",
       "      <td>738</td>\n",
       "      <td>417977714</td>\n",
       "      <td>web neuveden</td>\n",
       "      <td>50.641602</td>\n",
       "      <td>13.836818</td>\n",
       "      <td>LogopedieF</td>\n",
       "    </tr>\n",
       "    <tr>\n",
       "      <th>280</th>\n",
       "      <td>Mgr. Elsa Císařová</td>\n",
       "      <td>Teplice</td>\n",
       "      <td>41501</td>\n",
       "      <td>Lípová</td>\n",
       "      <td>239/2</td>\n",
       "      <td>417977714</td>\n",
       "      <td>web neuveden</td>\n",
       "      <td>50.640995</td>\n",
       "      <td>13.835943</td>\n",
       "      <td>LogopedieF</td>\n",
       "    </tr>\n",
       "  </tbody>\n",
       "</table>\n",
       "</div>"
      ],
      "text/plain": [
       "          NazevZarizeni ObecZarizeni  PscZarizeni UliceZarizeni   \n",
       "272  Mgr. Elsa Císařová      Teplice        41501        Lípová  \\\n",
       "280  Mgr. Elsa Císařová      Teplice        41501        Lípová   \n",
       "\n",
       "    CisloDomovniOrientacni    Telefon           Web  LatZarizeni  LngZarizeni   \n",
       "272                    738  417977714  web neuveden    50.641602    13.836818  \\\n",
       "280                  239/2  417977714  web neuveden    50.640995    13.835943   \n",
       "\n",
       "      ODBORNOST  \n",
       "272  LogopedieF  \n",
       "280  LogopedieF  "
      ]
     },
     "execution_count": 50,
     "metadata": {},
     "output_type": "execute_result"
    }
   ],
   "source": [
    "#náhodně nalezena Elsa Císařová v LogopedieF, ale už je v logopedie, smazat\n",
    "to_drop_3a = df[df['NazevZarizeni'] == 'Mgr. Elsa Císařová']\n",
    "to_drop_3a"
   ]
  },
  {
   "cell_type": "code",
   "execution_count": 51,
   "metadata": {},
   "outputs": [
    {
     "data": {
      "text/html": [
       "<div>\n",
       "<style scoped>\n",
       "    .dataframe tbody tr th:only-of-type {\n",
       "        vertical-align: middle;\n",
       "    }\n",
       "\n",
       "    .dataframe tbody tr th {\n",
       "        vertical-align: top;\n",
       "    }\n",
       "\n",
       "    .dataframe thead th {\n",
       "        text-align: right;\n",
       "    }\n",
       "</style>\n",
       "<table border=\"1\" class=\"dataframe\">\n",
       "  <thead>\n",
       "    <tr style=\"text-align: right;\">\n",
       "      <th></th>\n",
       "      <th>NazevZarizeni</th>\n",
       "      <th>ObecZarizeni</th>\n",
       "      <th>PscZarizeni</th>\n",
       "      <th>UliceZarizeni</th>\n",
       "      <th>CisloDomovniOrientacni</th>\n",
       "      <th>Telefon</th>\n",
       "      <th>Web</th>\n",
       "      <th>LatZarizeni</th>\n",
       "      <th>LngZarizeni</th>\n",
       "      <th>ODBORNOST</th>\n",
       "    </tr>\n",
       "  </thead>\n",
       "  <tbody>\n",
       "    <tr>\n",
       "      <th>574</th>\n",
       "      <td>Logopedická ambulance Centrum řeči s.r.o.</td>\n",
       "      <td>České Budějovice</td>\n",
       "      <td>37001</td>\n",
       "      <td>J. Š. Baara</td>\n",
       "      <td>1685/65</td>\n",
       "      <td>+420777302135</td>\n",
       "      <td>logopedie-ritterova.cz</td>\n",
       "      <td>48.97931</td>\n",
       "      <td>14.484172</td>\n",
       "      <td>logopedie</td>\n",
       "    </tr>\n",
       "  </tbody>\n",
       "</table>\n",
       "</div>"
      ],
      "text/plain": [
       "                                 NazevZarizeni      ObecZarizeni  PscZarizeni   \n",
       "574  Logopedická ambulance Centrum řeči s.r.o.  České Budějovice        37001  \\\n",
       "\n",
       "    UliceZarizeni CisloDomovniOrientacni        Telefon   \n",
       "574   J. Š. Baara                1685/65  +420777302135  \\\n",
       "\n",
       "                        Web  LatZarizeni  LngZarizeni  ODBORNOST  \n",
       "574  logopedie-ritterova.cz     48.97931    14.484172  logopedie  "
      ]
     },
     "execution_count": 51,
     "metadata": {},
     "output_type": "execute_result"
    }
   ],
   "source": [
    "#náhodně nalezena Elsa Císařová v LogopedieF, ale už je v logopedie, smazat\n",
    "to_drop_3b = df[(df['NazevZarizeni'] == 'Logopedická ambulance Centrum řeči s.r.o.') &  (df['CisloDomovniOrientacni'] == '1685/65')]\n",
    "to_drop_3b"
   ]
  },
  {
   "cell_type": "code",
   "execution_count": 52,
   "metadata": {},
   "outputs": [
    {
     "data": {
      "text/html": [
       "<div>\n",
       "<style scoped>\n",
       "    .dataframe tbody tr th:only-of-type {\n",
       "        vertical-align: middle;\n",
       "    }\n",
       "\n",
       "    .dataframe tbody tr th {\n",
       "        vertical-align: top;\n",
       "    }\n",
       "\n",
       "    .dataframe thead th {\n",
       "        text-align: right;\n",
       "    }\n",
       "</style>\n",
       "<table border=\"1\" class=\"dataframe\">\n",
       "  <thead>\n",
       "    <tr style=\"text-align: right;\">\n",
       "      <th></th>\n",
       "      <th>NazevZarizeni</th>\n",
       "      <th>ObecZarizeni</th>\n",
       "      <th>PscZarizeni</th>\n",
       "      <th>UliceZarizeni</th>\n",
       "      <th>CisloDomovniOrientacni</th>\n",
       "      <th>Telefon</th>\n",
       "      <th>Web</th>\n",
       "      <th>LatZarizeni</th>\n",
       "      <th>LngZarizeni</th>\n",
       "      <th>ODBORNOST</th>\n",
       "    </tr>\n",
       "  </thead>\n",
       "  <tbody>\n",
       "    <tr>\n",
       "      <th>780</th>\n",
       "      <td>PhDr. Jana Tláskalová</td>\n",
       "      <td>Vimperk</td>\n",
       "      <td>38501</td>\n",
       "      <td>1. máje</td>\n",
       "      <td>268/14</td>\n",
       "      <td>+420723442744</td>\n",
       "      <td>web neuveden</td>\n",
       "      <td>49.054836</td>\n",
       "      <td>13.779091</td>\n",
       "      <td>logopedie</td>\n",
       "    </tr>\n",
       "  </tbody>\n",
       "</table>\n",
       "</div>"
      ],
      "text/plain": [
       "             NazevZarizeni ObecZarizeni  PscZarizeni UliceZarizeni   \n",
       "780  PhDr. Jana Tláskalová      Vimperk        38501       1. máje  \\\n",
       "\n",
       "    CisloDomovniOrientacni        Telefon           Web  LatZarizeni   \n",
       "780                 268/14  +420723442744  web neuveden    49.054836  \\\n",
       "\n",
       "     LngZarizeni  ODBORNOST  \n",
       "780    13.779091  logopedie  "
      ]
     },
     "execution_count": 52,
     "metadata": {},
     "output_type": "execute_result"
    }
   ],
   "source": [
    "to_drop_3c = df[(df['NazevZarizeni'] == 'PhDr. Jana Tláskalová') & (df['CisloDomovniOrientacni'] == '268/14')]\n",
    "to_drop_3c"
   ]
  },
  {
   "cell_type": "code",
   "execution_count": 53,
   "metadata": {},
   "outputs": [],
   "source": [
    "# Smazaní 2x Elsa Císařová\n",
    "df.drop(to_drop_3a.index, inplace=True)\n",
    "# Smazaní Logopedická ambulance Centrum řeči s.r.o.\n",
    "df.drop(to_drop_3b.index, inplace=True)\n",
    "# Smazaní PhDr. Jana Tláskalová\n",
    "df.drop(to_drop_3c.index, inplace=True)"
   ]
  },
  {
   "cell_type": "code",
   "execution_count": 54,
   "metadata": {},
   "outputs": [
    {
     "data": {
      "text/plain": [
       "(732, 10)"
      ]
     },
     "execution_count": 54,
     "metadata": {},
     "output_type": "execute_result"
    }
   ],
   "source": [
    "df.shape"
   ]
  },
  {
   "attachments": {},
   "cell_type": "markdown",
   "metadata": {},
   "source": [
    "Vyhledani a smazani duplicit c. 4"
   ]
  },
  {
   "cell_type": "code",
   "execution_count": 55,
   "metadata": {},
   "outputs": [
    {
     "data": {
      "text/plain": [
       "81"
      ]
     },
     "execution_count": 55,
     "metadata": {},
     "output_type": "execute_result"
    }
   ],
   "source": [
    "#Pro kontrolu zopakovani c. 1, ale vcetne ulic s nulovou hodnotou\n",
    "dupl_found4 = df[df.duplicated(subset=['PscZarizeni', 'UliceZarizeni', 'CisloDomovniOrientacni'], keep=False)].sort_values('CisloDomovniOrientacni')\n",
    "len(dupl_found4)\n",
    "#nutne vyhodit duplicity s LogopedieF"
   ]
  },
  {
   "cell_type": "code",
   "execution_count": null,
   "metadata": {},
   "outputs": [],
   "source": [
    "df.shape"
   ]
  },
  {
   "cell_type": "code",
   "execution_count": 56,
   "metadata": {},
   "outputs": [
    {
     "data": {
      "text/plain": [
       "3"
      ]
     },
     "execution_count": 56,
     "metadata": {},
     "output_type": "execute_result"
    }
   ],
   "source": [
    "#Specifikace (a ulozeni do promenne) radku ze souboru neklinickych (s nazvem), ktere jsou duplicitni s klinickymi, a proto budou smazany\n",
    "to_drop_4 = df[df.duplicated(subset=['PscZarizeni', 'UliceZarizeni', 'CisloDomovniOrientacni'], keep=False) & (df['ODBORNOST'] == \"LogopedieF\")]\n",
    "#Pocet radku z neklin vymazanych jako duplicity klin/neklin\n",
    "len(to_drop_4)"
   ]
  },
  {
   "cell_type": "code",
   "execution_count": 57,
   "metadata": {},
   "outputs": [],
   "source": [
    "df.drop(to_drop_4.index, inplace=True)"
   ]
  },
  {
   "cell_type": "code",
   "execution_count": 58,
   "metadata": {},
   "outputs": [
    {
     "data": {
      "text/plain": [
       "(729, 10)"
      ]
     },
     "execution_count": 58,
     "metadata": {},
     "output_type": "execute_result"
    }
   ],
   "source": [
    "df.shape"
   ]
  },
  {
   "attachments": {},
   "cell_type": "markdown",
   "metadata": {},
   "source": [
    "Vyhledani a vymazani nahodne nalezenych duplicit"
   ]
  },
  {
   "cell_type": "code",
   "execution_count": 59,
   "metadata": {},
   "outputs": [
    {
     "data": {
      "text/html": [
       "<div>\n",
       "<style scoped>\n",
       "    .dataframe tbody tr th:only-of-type {\n",
       "        vertical-align: middle;\n",
       "    }\n",
       "\n",
       "    .dataframe tbody tr th {\n",
       "        vertical-align: top;\n",
       "    }\n",
       "\n",
       "    .dataframe thead th {\n",
       "        text-align: right;\n",
       "    }\n",
       "</style>\n",
       "<table border=\"1\" class=\"dataframe\">\n",
       "  <thead>\n",
       "    <tr style=\"text-align: right;\">\n",
       "      <th></th>\n",
       "      <th>NazevZarizeni</th>\n",
       "      <th>ObecZarizeni</th>\n",
       "      <th>PscZarizeni</th>\n",
       "      <th>UliceZarizeni</th>\n",
       "      <th>CisloDomovniOrientacni</th>\n",
       "      <th>Telefon</th>\n",
       "      <th>Web</th>\n",
       "      <th>LatZarizeni</th>\n",
       "      <th>LngZarizeni</th>\n",
       "      <th>ODBORNOST</th>\n",
       "    </tr>\n",
       "  </thead>\n",
       "  <tbody>\n",
       "    <tr>\n",
       "      <th>469</th>\n",
       "      <td>Mgr. Eliška Haltofová</td>\n",
       "      <td>Třinec</td>\n",
       "      <td>73961</td>\n",
       "      <td>Jablunkovská</td>\n",
       "      <td>408</td>\n",
       "      <td>telefon neuveden</td>\n",
       "      <td>web neuveden</td>\n",
       "      <td>49.669705</td>\n",
       "      <td>18.679984</td>\n",
       "      <td>logopedie</td>\n",
       "    </tr>\n",
       "    <tr>\n",
       "      <th>551</th>\n",
       "      <td>LOGOPRO s.r.o.</td>\n",
       "      <td>Třinec</td>\n",
       "      <td>73961</td>\n",
       "      <td>Máchova</td>\n",
       "      <td>1134</td>\n",
       "      <td>+420558998083</td>\n",
       "      <td>http://logopedietrinec.cz</td>\n",
       "      <td>49.670016</td>\n",
       "      <td>18.670179</td>\n",
       "      <td>logopedie</td>\n",
       "    </tr>\n",
       "    <tr>\n",
       "      <th>557</th>\n",
       "      <td>LOGOPRO s.r.o.</td>\n",
       "      <td>Třinec</td>\n",
       "      <td>73961</td>\n",
       "      <td>Bezručova</td>\n",
       "      <td>419</td>\n",
       "      <td>+420558998083</td>\n",
       "      <td>http://logopedietrinec.cz</td>\n",
       "      <td>49.674419</td>\n",
       "      <td>18.666929</td>\n",
       "      <td>logopedie</td>\n",
       "    </tr>\n",
       "    <tr>\n",
       "      <th>558</th>\n",
       "      <td>LOGOPRO s.r.o.</td>\n",
       "      <td>Třinec</td>\n",
       "      <td>73961</td>\n",
       "      <td>nám. Svobody</td>\n",
       "      <td>527</td>\n",
       "      <td>+420558998083</td>\n",
       "      <td>http://logopedietrinec.cz</td>\n",
       "      <td>49.669390</td>\n",
       "      <td>18.674915</td>\n",
       "      <td>logopedie</td>\n",
       "    </tr>\n",
       "    <tr>\n",
       "      <th>730</th>\n",
       "      <td>Nemocnice Třinec, příspěvková organizace</td>\n",
       "      <td>Třinec</td>\n",
       "      <td>73961</td>\n",
       "      <td>Kaštanová</td>\n",
       "      <td>268</td>\n",
       "      <td>+420558309102</td>\n",
       "      <td>http://www.nemtr.cz</td>\n",
       "      <td>49.674753</td>\n",
       "      <td>18.690697</td>\n",
       "      <td>logopedie</td>\n",
       "    </tr>\n",
       "    <tr>\n",
       "      <th>846</th>\n",
       "      <td>Mgr. Zdenka Lakomá - CENTRUM LINIE</td>\n",
       "      <td>Třinec</td>\n",
       "      <td>73961</td>\n",
       "      <td>Kopernikova</td>\n",
       "      <td>623</td>\n",
       "      <td>telefon neuveden</td>\n",
       "      <td>web neuveden</td>\n",
       "      <td>49.668099</td>\n",
       "      <td>18.671842</td>\n",
       "      <td>logopedie</td>\n",
       "    </tr>\n",
       "  </tbody>\n",
       "</table>\n",
       "</div>"
      ],
      "text/plain": [
       "                                NazevZarizeni ObecZarizeni  PscZarizeni   \n",
       "469                     Mgr. Eliška Haltofová       Třinec        73961  \\\n",
       "551                            LOGOPRO s.r.o.       Třinec        73961   \n",
       "557                            LOGOPRO s.r.o.       Třinec        73961   \n",
       "558                            LOGOPRO s.r.o.       Třinec        73961   \n",
       "730  Nemocnice Třinec, příspěvková organizace       Třinec        73961   \n",
       "846        Mgr. Zdenka Lakomá - CENTRUM LINIE       Třinec        73961   \n",
       "\n",
       "    UliceZarizeni CisloDomovniOrientacni           Telefon   \n",
       "469  Jablunkovská                    408  telefon neuveden  \\\n",
       "551       Máchova                   1134     +420558998083   \n",
       "557     Bezručova                    419     +420558998083   \n",
       "558  nám. Svobody                    527     +420558998083   \n",
       "730     Kaštanová                    268     +420558309102   \n",
       "846   Kopernikova                    623  telefon neuveden   \n",
       "\n",
       "                           Web  LatZarizeni  LngZarizeni  ODBORNOST  \n",
       "469               web neuveden    49.669705    18.679984  logopedie  \n",
       "551  http://logopedietrinec.cz    49.670016    18.670179  logopedie  \n",
       "557  http://logopedietrinec.cz    49.674419    18.666929  logopedie  \n",
       "558  http://logopedietrinec.cz    49.669390    18.674915  logopedie  \n",
       "730        http://www.nemtr.cz    49.674753    18.690697  logopedie  \n",
       "846               web neuveden    49.668099    18.671842  logopedie  "
      ]
     },
     "execution_count": 59,
     "metadata": {},
     "output_type": "execute_result"
    }
   ],
   "source": [
    "dupl_found5 = df[df['ObecZarizeni'].str.contains('Třinec')]\n",
    "dupl_found5\n",
    "#nutné vymazat Logopro Máchova a Bezručova"
   ]
  },
  {
   "cell_type": "code",
   "execution_count": 60,
   "metadata": {},
   "outputs": [
    {
     "data": {
      "text/html": [
       "<div>\n",
       "<style scoped>\n",
       "    .dataframe tbody tr th:only-of-type {\n",
       "        vertical-align: middle;\n",
       "    }\n",
       "\n",
       "    .dataframe tbody tr th {\n",
       "        vertical-align: top;\n",
       "    }\n",
       "\n",
       "    .dataframe thead th {\n",
       "        text-align: right;\n",
       "    }\n",
       "</style>\n",
       "<table border=\"1\" class=\"dataframe\">\n",
       "  <thead>\n",
       "    <tr style=\"text-align: right;\">\n",
       "      <th></th>\n",
       "      <th>NazevZarizeni</th>\n",
       "      <th>ObecZarizeni</th>\n",
       "      <th>PscZarizeni</th>\n",
       "      <th>UliceZarizeni</th>\n",
       "      <th>CisloDomovniOrientacni</th>\n",
       "      <th>Telefon</th>\n",
       "      <th>Web</th>\n",
       "      <th>LatZarizeni</th>\n",
       "      <th>LngZarizeni</th>\n",
       "      <th>ODBORNOST</th>\n",
       "    </tr>\n",
       "  </thead>\n",
       "  <tbody>\n",
       "    <tr>\n",
       "      <th>551</th>\n",
       "      <td>LOGOPRO s.r.o.</td>\n",
       "      <td>Třinec</td>\n",
       "      <td>73961</td>\n",
       "      <td>Máchova</td>\n",
       "      <td>1134</td>\n",
       "      <td>+420558998083</td>\n",
       "      <td>http://logopedietrinec.cz</td>\n",
       "      <td>49.670016</td>\n",
       "      <td>18.670179</td>\n",
       "      <td>logopedie</td>\n",
       "    </tr>\n",
       "    <tr>\n",
       "      <th>557</th>\n",
       "      <td>LOGOPRO s.r.o.</td>\n",
       "      <td>Třinec</td>\n",
       "      <td>73961</td>\n",
       "      <td>Bezručova</td>\n",
       "      <td>419</td>\n",
       "      <td>+420558998083</td>\n",
       "      <td>http://logopedietrinec.cz</td>\n",
       "      <td>49.674419</td>\n",
       "      <td>18.666929</td>\n",
       "      <td>logopedie</td>\n",
       "    </tr>\n",
       "  </tbody>\n",
       "</table>\n",
       "</div>"
      ],
      "text/plain": [
       "      NazevZarizeni ObecZarizeni  PscZarizeni UliceZarizeni   \n",
       "551  LOGOPRO s.r.o.       Třinec        73961       Máchova  \\\n",
       "557  LOGOPRO s.r.o.       Třinec        73961     Bezručova   \n",
       "\n",
       "    CisloDomovniOrientacni        Telefon                        Web   \n",
       "551                   1134  +420558998083  http://logopedietrinec.cz  \\\n",
       "557                    419  +420558998083  http://logopedietrinec.cz   \n",
       "\n",
       "     LatZarizeni  LngZarizeni  ODBORNOST  \n",
       "551    49.670016    18.670179  logopedie  \n",
       "557    49.674419    18.666929  logopedie  "
      ]
     },
     "execution_count": 60,
     "metadata": {},
     "output_type": "execute_result"
    }
   ],
   "source": [
    "to_drop_5 = df[(df['NazevZarizeni'].str.contains('LOGOPRO')) & (df['UliceZarizeni'].str.contains('Bezručova|Máchova'))]\n",
    "to_drop_5\n"
   ]
  },
  {
   "cell_type": "code",
   "execution_count": 61,
   "metadata": {},
   "outputs": [],
   "source": [
    "#Vymazání Logopro\n",
    "df.drop(to_drop_5.index, inplace=True)"
   ]
  },
  {
   "cell_type": "code",
   "execution_count": 62,
   "metadata": {},
   "outputs": [
    {
     "data": {
      "text/plain": [
       "(727, 10)"
      ]
     },
     "execution_count": 62,
     "metadata": {},
     "output_type": "execute_result"
    }
   ],
   "source": [
    "df.shape"
   ]
  },
  {
   "cell_type": "code",
   "execution_count": 63,
   "metadata": {},
   "outputs": [
    {
     "data": {
      "text/html": [
       "<div>\n",
       "<style scoped>\n",
       "    .dataframe tbody tr th:only-of-type {\n",
       "        vertical-align: middle;\n",
       "    }\n",
       "\n",
       "    .dataframe tbody tr th {\n",
       "        vertical-align: top;\n",
       "    }\n",
       "\n",
       "    .dataframe thead th {\n",
       "        text-align: right;\n",
       "    }\n",
       "</style>\n",
       "<table border=\"1\" class=\"dataframe\">\n",
       "  <thead>\n",
       "    <tr style=\"text-align: right;\">\n",
       "      <th></th>\n",
       "      <th>NazevZarizeni</th>\n",
       "      <th>ObecZarizeni</th>\n",
       "      <th>PscZarizeni</th>\n",
       "      <th>UliceZarizeni</th>\n",
       "      <th>CisloDomovniOrientacni</th>\n",
       "      <th>Telefon</th>\n",
       "      <th>Web</th>\n",
       "      <th>LatZarizeni</th>\n",
       "      <th>LngZarizeni</th>\n",
       "      <th>ODBORNOST</th>\n",
       "    </tr>\n",
       "  </thead>\n",
       "  <tbody>\n",
       "    <tr>\n",
       "      <th>207</th>\n",
       "      <td>FlowerGarten</td>\n",
       "      <td>Praha, Zbraslav</td>\n",
       "      <td>15600</td>\n",
       "      <td>Pod chaloupkami</td>\n",
       "      <td>1309</td>\n",
       "      <td>776637470</td>\n",
       "      <td>http://www.flowergarten.cz</td>\n",
       "      <td>49.965523</td>\n",
       "      <td>14.393744</td>\n",
       "      <td>LogopedieF</td>\n",
       "    </tr>\n",
       "  </tbody>\n",
       "</table>\n",
       "</div>"
      ],
      "text/plain": [
       "    NazevZarizeni     ObecZarizeni  PscZarizeni    UliceZarizeni   \n",
       "207  FlowerGarten  Praha, Zbraslav        15600  Pod chaloupkami  \\\n",
       "\n",
       "    CisloDomovniOrientacni    Telefon                         Web   \n",
       "207                   1309  776637470  http://www.flowergarten.cz  \\\n",
       "\n",
       "     LatZarizeni  LngZarizeni   ODBORNOST  \n",
       "207    49.965523    14.393744  LogopedieF  "
      ]
     },
     "execution_count": 63,
     "metadata": {},
     "output_type": "execute_result"
    }
   ],
   "source": [
    "df[df['NazevZarizeni'].str.contains('Flower')]"
   ]
  },
  {
   "cell_type": "code",
   "execution_count": 64,
   "metadata": {},
   "outputs": [],
   "source": [
    "#Vymazání Flower\n",
    "df = df[~df['NazevZarizeni'].str.contains('Flower')]"
   ]
  },
  {
   "cell_type": "code",
   "execution_count": 65,
   "metadata": {},
   "outputs": [
    {
     "data": {
      "text/plain": [
       "(726, 10)"
      ]
     },
     "execution_count": 65,
     "metadata": {},
     "output_type": "execute_result"
    }
   ],
   "source": [
    "df.shape"
   ]
  },
  {
   "cell_type": "code",
   "execution_count": 66,
   "metadata": {},
   "outputs": [],
   "source": [
    "df.to_csv('union_pyth_VYCISTENY.csv', index=False)"
   ]
  },
  {
   "cell_type": "code",
   "execution_count": null,
   "metadata": {},
   "outputs": [],
   "source": []
  }
 ],
 "metadata": {
  "kernelspec": {
   "display_name": "Python 3",
   "language": "python",
   "name": "python3"
  },
  "language_info": {
   "codemirror_mode": {
    "name": "ipython",
    "version": 3
   },
   "file_extension": ".py",
   "mimetype": "text/x-python",
   "name": "python",
   "nbconvert_exporter": "python",
   "pygments_lexer": "ipython3",
   "version": "3.11.3"
  },
  "orig_nbformat": 4
 },
 "nbformat": 4,
 "nbformat_minor": 2
}
