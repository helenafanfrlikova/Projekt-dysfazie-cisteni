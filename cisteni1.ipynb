{
 "cells": [
  {
   "cell_type": "code",
   "execution_count": 21,
   "metadata": {},
   "outputs": [
    {
     "data": {
      "text/plain": [
       "562"
      ]
     },
     "execution_count": 21,
     "metadata": {},
     "output_type": "execute_result"
    }
   ],
   "source": [
    "import pandas as pd\n",
    "df_orig = pd.read_csv('FIRMY_CLEANSING.csv')\n",
    "len(df_orig)"
   ]
  },
  {
   "cell_type": "code",
   "execution_count": 22,
   "metadata": {},
   "outputs": [
    {
     "name": "stdout",
     "output_type": "stream",
     "text": [
      "314\n"
     ]
    }
   ],
   "source": [
    "# Vydefinování NEklinických (tilda)\n",
    "co_chci_pryc=\"klinick\"\n",
    "df = df_orig[~df_orig['description'].str.lower().str.contains(co_chci_pryc).fillna(False)]\n",
    "df = df[~df['title'].str.lower().str.contains(co_chci_pryc).fillna(False)]\n",
    "df = df[~df['title_alternative'].str.lower().str.contains(co_chci_pryc).fillna(False)]\n",
    "df = df.reset_index(drop=True) # přečísluje index znovu od 0\n",
    "print(len(df))\n"
   ]
  },
  {
   "cell_type": "code",
   "execution_count": 23,
   "metadata": {},
   "outputs": [
    {
     "name": "stdout",
     "output_type": "stream",
     "text": [
      "301\n"
     ]
    }
   ],
   "source": [
    "df = df.drop_duplicates(subset=\"address\")\n",
    "print(len(df))"
   ]
  },
  {
   "cell_type": "code",
   "execution_count": 24,
   "metadata": {},
   "outputs": [],
   "source": [
    "df = df.drop(columns='phonecountry_code')\n",
    "df = df.drop(columns='phonerole')\n",
    "df = df.drop(columns='gps_encode')\n",
    "df = df.drop(columns='id')\n",
    "df = df.drop(columns='subject_id')\n",
    "df = df.drop(columns='region_district_name')\n",
    "df = df.drop(columns='description')\n",
    "df = df.drop(columns='title_web')\n",
    "df = df.drop(columns='title_alternative')\n",
    "df = df.drop(columns='address')"
   ]
  },
  {
   "cell_type": "code",
   "execution_count": 25,
   "metadata": {},
   "outputs": [],
   "source": [
    "df = df[~df[\"title\"].isna()]"
   ]
  },
  {
   "cell_type": "code",
   "execution_count": 26,
   "metadata": {},
   "outputs": [
    {
     "name": "stdout",
     "output_type": "stream",
     "text": [
      "addr_city 0\n",
      "addr_house_num 0\n",
      "addr_street 11\n",
      "addr_zip 0\n",
      "gps_latitude 0\n",
      "gps_longitude 0\n",
      "phonenumber 0\n",
      "title 0\n",
      "url 0\n"
     ]
    }
   ],
   "source": [
    "sloupecky = df.columns\n",
    "for sloupecek in sloupecky:\n",
    "    print(sloupecek + \" \" + str(len(df[df[sloupecek].isna()])))"
   ]
  },
  {
   "cell_type": "code",
   "execution_count": 27,
   "metadata": {},
   "outputs": [],
   "source": [
    "df['phonenumber'] = df['phonenumber'].replace('Telefon neuveden', 'telefon neuveden', regex=True)\n",
    "df['url'] = df['url'].replace('URL neuvedena', 'web neuveden', regex=True)"
   ]
  },
  {
   "cell_type": "code",
   "execution_count": 28,
   "metadata": {},
   "outputs": [
    {
     "data": {
      "text/plain": [
       "0             720640520\n",
       "1             731321985\n",
       "2             493582590\n",
       "3             608224482\n",
       "4             724675458\n",
       "             ...       \n",
       "306    telefon neuveden\n",
       "308    telefon neuveden\n",
       "309           604570888\n",
       "311           723303100\n",
       "312           607637972\n",
       "Name: phonenumber, Length: 300, dtype: object"
      ]
     },
     "execution_count": 28,
     "metadata": {},
     "output_type": "execute_result"
    }
   ],
   "source": [
    "df['phonenumber']"
   ]
  },
  {
   "cell_type": "code",
   "execution_count": 29,
   "metadata": {},
   "outputs": [],
   "source": [
    "new_names = {'addr_city': 'ObecZarizeni', 'addr_house_num': 'CisloDomovniOrientacni', 'addr_street': 'UliceZarizeni', 'addr_zip': 'PscZarizeni', 'gps_latitude': 'LatZarizeni', 'gps_longitude': 'LngZarizeni', \n",
    "             'phonenumber': 'Telefon', 'title': 'NazevZarizeni', 'title_alternative': 'title_alternative', \n",
    "             'url': 'Web'}\n",
    "\n",
    "# přejmenování sloupců\n",
    "df = df.rename(columns=new_names)"
   ]
  },
  {
   "cell_type": "code",
   "execution_count": 30,
   "metadata": {},
   "outputs": [],
   "source": [
    "df['ODBORNOST'] = 'LogopedieF'"
   ]
  },
  {
   "cell_type": "code",
   "execution_count": 31,
   "metadata": {},
   "outputs": [
    {
     "data": {
      "text/plain": [
       "Index(['ObecZarizeni', 'CisloDomovniOrientacni', 'UliceZarizeni',\n",
       "       'PscZarizeni', 'LatZarizeni', 'LngZarizeni', 'Telefon', 'NazevZarizeni',\n",
       "       'Web', 'ODBORNOST'],\n",
       "      dtype='object')"
      ]
     },
     "execution_count": 31,
     "metadata": {},
     "output_type": "execute_result"
    }
   ],
   "source": [
    "df.columns"
   ]
  },
  {
   "cell_type": "code",
   "execution_count": 32,
   "metadata": {},
   "outputs": [],
   "source": [
    "new_col_names = ['NazevZarizeni', 'ObecZarizeni', 'PscZarizeni', 'UliceZarizeni',\n",
    "                 'CisloDomovniOrientacni', 'Telefon', 'Web', 'LatZarizeni', 'LngZarizeni',\n",
    "                 'ODBORNOST', 'AdresaZarizeni']\n",
    "df = df.reindex(columns=new_col_names)\n"
   ]
  },
  {
   "cell_type": "code",
   "execution_count": 33,
   "metadata": {},
   "outputs": [],
   "source": [
    "df = df.drop(columns='AdresaZarizeni')"
   ]
  },
  {
   "cell_type": "code",
   "execution_count": 34,
   "metadata": {},
   "outputs": [
    {
     "data": {
      "text/html": [
       "<div>\n",
       "<style scoped>\n",
       "    .dataframe tbody tr th:only-of-type {\n",
       "        vertical-align: middle;\n",
       "    }\n",
       "\n",
       "    .dataframe tbody tr th {\n",
       "        vertical-align: top;\n",
       "    }\n",
       "\n",
       "    .dataframe thead th {\n",
       "        text-align: right;\n",
       "    }\n",
       "</style>\n",
       "<table border=\"1\" class=\"dataframe\">\n",
       "  <thead>\n",
       "    <tr style=\"text-align: right;\">\n",
       "      <th></th>\n",
       "      <th>NazevZarizeni</th>\n",
       "      <th>ObecZarizeni</th>\n",
       "      <th>PscZarizeni</th>\n",
       "      <th>UliceZarizeni</th>\n",
       "      <th>CisloDomovniOrientacni</th>\n",
       "      <th>Telefon</th>\n",
       "      <th>Web</th>\n",
       "      <th>LatZarizeni</th>\n",
       "      <th>LngZarizeni</th>\n",
       "      <th>ODBORNOST</th>\n",
       "    </tr>\n",
       "  </thead>\n",
       "  <tbody>\n",
       "    <tr>\n",
       "      <th>0</th>\n",
       "      <td>Alena Netolická</td>\n",
       "      <td>Praha, Veleslavín</td>\n",
       "      <td>16200</td>\n",
       "      <td>Veleslavínská</td>\n",
       "      <td>1/30</td>\n",
       "      <td>720640520</td>\n",
       "      <td>http://www.alenanetolicka.cz</td>\n",
       "      <td>50.093365</td>\n",
       "      <td>14.350673</td>\n",
       "      <td>LogopedieF</td>\n",
       "    </tr>\n",
       "    <tr>\n",
       "      <th>1</th>\n",
       "      <td>Mgr. Ivana Banašová</td>\n",
       "      <td>Dolany</td>\n",
       "      <td>78316</td>\n",
       "      <td>NaN</td>\n",
       "      <td>52</td>\n",
       "      <td>731321985</td>\n",
       "      <td>http://www.logopedickaporadna.cz</td>\n",
       "      <td>49.649315</td>\n",
       "      <td>17.322386</td>\n",
       "      <td>LogopedieF</td>\n",
       "    </tr>\n",
       "    <tr>\n",
       "      <th>2</th>\n",
       "      <td>Oblastní nemocnice Jičín</td>\n",
       "      <td>Jičín, Valdické Předměstí</td>\n",
       "      <td>50601</td>\n",
       "      <td>Bolzanova</td>\n",
       "      <td>512</td>\n",
       "      <td>493582590</td>\n",
       "      <td>https://www.nemjc.cz/usni-nosni-krcni-oddeleni</td>\n",
       "      <td>50.439034</td>\n",
       "      <td>15.357051</td>\n",
       "      <td>LogopedieF</td>\n",
       "    </tr>\n",
       "    <tr>\n",
       "      <th>3</th>\n",
       "      <td>Lucky logopedie</td>\n",
       "      <td>Kladno</td>\n",
       "      <td>27201</td>\n",
       "      <td>K Nemocnici</td>\n",
       "      <td>2814</td>\n",
       "      <td>608224482</td>\n",
       "      <td>https://www.luckylogopedie.cz</td>\n",
       "      <td>50.143688</td>\n",
       "      <td>14.093281</td>\n",
       "      <td>LogopedieF</td>\n",
       "    </tr>\n",
       "    <tr>\n",
       "      <th>4</th>\n",
       "      <td>Mgr. Jitka Chytková</td>\n",
       "      <td>Horní Jelení</td>\n",
       "      <td>53374</td>\n",
       "      <td>U Kříže</td>\n",
       "      <td>676</td>\n",
       "      <td>724675458</td>\n",
       "      <td>https://www.logoberuska.cz</td>\n",
       "      <td>50.043137</td>\n",
       "      <td>16.087875</td>\n",
       "      <td>LogopedieF</td>\n",
       "    </tr>\n",
       "  </tbody>\n",
       "</table>\n",
       "</div>"
      ],
      "text/plain": [
       "              NazevZarizeni               ObecZarizeni  PscZarizeni   \n",
       "0           Alena Netolická          Praha, Veleslavín        16200  \\\n",
       "1       Mgr. Ivana Banašová                     Dolany        78316   \n",
       "2  Oblastní nemocnice Jičín  Jičín, Valdické Předměstí        50601   \n",
       "3           Lucky logopedie                     Kladno        27201   \n",
       "4       Mgr. Jitka Chytková               Horní Jelení        53374   \n",
       "\n",
       "   UliceZarizeni CisloDomovniOrientacni    Telefon   \n",
       "0  Veleslavínská                   1/30  720640520  \\\n",
       "1            NaN                     52  731321985   \n",
       "2      Bolzanova                    512  493582590   \n",
       "3    K Nemocnici                   2814  608224482   \n",
       "4        U Kříže                    676  724675458   \n",
       "\n",
       "                                              Web  LatZarizeni  LngZarizeni   \n",
       "0                    http://www.alenanetolicka.cz    50.093365    14.350673  \\\n",
       "1                http://www.logopedickaporadna.cz    49.649315    17.322386   \n",
       "2  https://www.nemjc.cz/usni-nosni-krcni-oddeleni    50.439034    15.357051   \n",
       "3                   https://www.luckylogopedie.cz    50.143688    14.093281   \n",
       "4                      https://www.logoberuska.cz    50.043137    16.087875   \n",
       "\n",
       "    ODBORNOST  \n",
       "0  LogopedieF  \n",
       "1  LogopedieF  \n",
       "2  LogopedieF  \n",
       "3  LogopedieF  \n",
       "4  LogopedieF  "
      ]
     },
     "execution_count": 34,
     "metadata": {},
     "output_type": "execute_result"
    }
   ],
   "source": [
    "df.head(5)"
   ]
  },
  {
   "cell_type": "code",
   "execution_count": 35,
   "metadata": {},
   "outputs": [],
   "source": [
    "df = df.drop(309)"
   ]
  },
  {
   "cell_type": "code",
   "execution_count": 36,
   "metadata": {},
   "outputs": [
    {
     "data": {
      "text/html": [
       "<div>\n",
       "<style scoped>\n",
       "    .dataframe tbody tr th:only-of-type {\n",
       "        vertical-align: middle;\n",
       "    }\n",
       "\n",
       "    .dataframe tbody tr th {\n",
       "        vertical-align: top;\n",
       "    }\n",
       "\n",
       "    .dataframe thead th {\n",
       "        text-align: right;\n",
       "    }\n",
       "</style>\n",
       "<table border=\"1\" class=\"dataframe\">\n",
       "  <thead>\n",
       "    <tr style=\"text-align: right;\">\n",
       "      <th></th>\n",
       "      <th>NazevZarizeni</th>\n",
       "      <th>ObecZarizeni</th>\n",
       "      <th>PscZarizeni</th>\n",
       "      <th>UliceZarizeni</th>\n",
       "      <th>CisloDomovniOrientacni</th>\n",
       "      <th>Telefon</th>\n",
       "      <th>Web</th>\n",
       "      <th>LatZarizeni</th>\n",
       "      <th>LngZarizeni</th>\n",
       "      <th>ODBORNOST</th>\n",
       "    </tr>\n",
       "  </thead>\n",
       "  <tbody>\n",
       "    <tr>\n",
       "      <th>0</th>\n",
       "      <td>Alena Netolická</td>\n",
       "      <td>Praha, Veleslavín</td>\n",
       "      <td>16200</td>\n",
       "      <td>Veleslavínská</td>\n",
       "      <td>1/30</td>\n",
       "      <td>720640520</td>\n",
       "      <td>http://www.alenanetolicka.cz</td>\n",
       "      <td>50.093365</td>\n",
       "      <td>14.350673</td>\n",
       "      <td>LogopedieF</td>\n",
       "    </tr>\n",
       "    <tr>\n",
       "      <th>1</th>\n",
       "      <td>Mgr. Ivana Banašová</td>\n",
       "      <td>Dolany</td>\n",
       "      <td>78316</td>\n",
       "      <td>NaN</td>\n",
       "      <td>52</td>\n",
       "      <td>731321985</td>\n",
       "      <td>http://www.logopedickaporadna.cz</td>\n",
       "      <td>49.649315</td>\n",
       "      <td>17.322386</td>\n",
       "      <td>LogopedieF</td>\n",
       "    </tr>\n",
       "    <tr>\n",
       "      <th>2</th>\n",
       "      <td>Oblastní nemocnice Jičín</td>\n",
       "      <td>Jičín, Valdické Předměstí</td>\n",
       "      <td>50601</td>\n",
       "      <td>Bolzanova</td>\n",
       "      <td>512</td>\n",
       "      <td>493582590</td>\n",
       "      <td>https://www.nemjc.cz/usni-nosni-krcni-oddeleni</td>\n",
       "      <td>50.439034</td>\n",
       "      <td>15.357051</td>\n",
       "      <td>LogopedieF</td>\n",
       "    </tr>\n",
       "    <tr>\n",
       "      <th>3</th>\n",
       "      <td>Lucky logopedie</td>\n",
       "      <td>Kladno</td>\n",
       "      <td>27201</td>\n",
       "      <td>K Nemocnici</td>\n",
       "      <td>2814</td>\n",
       "      <td>608224482</td>\n",
       "      <td>https://www.luckylogopedie.cz</td>\n",
       "      <td>50.143688</td>\n",
       "      <td>14.093281</td>\n",
       "      <td>LogopedieF</td>\n",
       "    </tr>\n",
       "    <tr>\n",
       "      <th>4</th>\n",
       "      <td>Mgr. Jitka Chytková</td>\n",
       "      <td>Horní Jelení</td>\n",
       "      <td>53374</td>\n",
       "      <td>U Kříže</td>\n",
       "      <td>676</td>\n",
       "      <td>724675458</td>\n",
       "      <td>https://www.logoberuska.cz</td>\n",
       "      <td>50.043137</td>\n",
       "      <td>16.087875</td>\n",
       "      <td>LogopedieF</td>\n",
       "    </tr>\n",
       "    <tr>\n",
       "      <th>5</th>\n",
       "      <td>LOGOPEDIE Brno</td>\n",
       "      <td>Brno, Veveří</td>\n",
       "      <td>60200</td>\n",
       "      <td>Sušilova</td>\n",
       "      <td>773/9</td>\n",
       "      <td>773110434</td>\n",
       "      <td>http://www.logopediebrno.eu</td>\n",
       "      <td>49.205780</td>\n",
       "      <td>16.599834</td>\n",
       "      <td>LogopedieF</td>\n",
       "    </tr>\n",
       "    <tr>\n",
       "      <th>6</th>\n",
       "      <td>Mgr. Lenka Bartáková</td>\n",
       "      <td>Znojmo</td>\n",
       "      <td>66902</td>\n",
       "      <td>Kotkova</td>\n",
       "      <td>708/1</td>\n",
       "      <td>739651671</td>\n",
       "      <td>http://cerstvalogopedie.cz</td>\n",
       "      <td>48.849720</td>\n",
       "      <td>16.056601</td>\n",
       "      <td>LogopedieF</td>\n",
       "    </tr>\n",
       "    <tr>\n",
       "      <th>7</th>\n",
       "      <td>Mgr. Jarmila Hofmanová</td>\n",
       "      <td>Rokytnice v Orlických horách</td>\n",
       "      <td>51761</td>\n",
       "      <td>Sídliště 1. máje</td>\n",
       "      <td>457</td>\n",
       "      <td>775157454</td>\n",
       "      <td>https://ambulance-klinicke-logopedie3.webnode.cz</td>\n",
       "      <td>50.166298</td>\n",
       "      <td>16.464718</td>\n",
       "      <td>LogopedieF</td>\n",
       "    </tr>\n",
       "    <tr>\n",
       "      <th>8</th>\n",
       "      <td>Mgr. Petra Tabačíková</td>\n",
       "      <td>Praha, Zbraslav</td>\n",
       "      <td>15600</td>\n",
       "      <td>Sulova</td>\n",
       "      <td>1356</td>\n",
       "      <td>605471740</td>\n",
       "      <td>http://www.komplexni-mluvni-terapie.cz</td>\n",
       "      <td>49.965481</td>\n",
       "      <td>14.381027</td>\n",
       "      <td>LogopedieF</td>\n",
       "    </tr>\n",
       "    <tr>\n",
       "      <th>9</th>\n",
       "      <td>PhDr. et Mgr. Markéta Štochlová</td>\n",
       "      <td>Nýrsko</td>\n",
       "      <td>34022</td>\n",
       "      <td>Klatovská</td>\n",
       "      <td>641</td>\n",
       "      <td>777975848</td>\n",
       "      <td>https://www.logopedienyrsko.cz/</td>\n",
       "      <td>49.295700</td>\n",
       "      <td>13.149357</td>\n",
       "      <td>LogopedieF</td>\n",
       "    </tr>\n",
       "  </tbody>\n",
       "</table>\n",
       "</div>"
      ],
      "text/plain": [
       "                     NazevZarizeni                  ObecZarizeni  PscZarizeni   \n",
       "0                  Alena Netolická             Praha, Veleslavín        16200  \\\n",
       "1              Mgr. Ivana Banašová                        Dolany        78316   \n",
       "2         Oblastní nemocnice Jičín     Jičín, Valdické Předměstí        50601   \n",
       "3                  Lucky logopedie                        Kladno        27201   \n",
       "4              Mgr. Jitka Chytková                  Horní Jelení        53374   \n",
       "5                   LOGOPEDIE Brno                  Brno, Veveří        60200   \n",
       "6             Mgr. Lenka Bartáková                        Znojmo        66902   \n",
       "7           Mgr. Jarmila Hofmanová  Rokytnice v Orlických horách        51761   \n",
       "8            Mgr. Petra Tabačíková               Praha, Zbraslav        15600   \n",
       "9  PhDr. et Mgr. Markéta Štochlová                        Nýrsko        34022   \n",
       "\n",
       "      UliceZarizeni CisloDomovniOrientacni    Telefon   \n",
       "0     Veleslavínská                   1/30  720640520  \\\n",
       "1               NaN                     52  731321985   \n",
       "2         Bolzanova                    512  493582590   \n",
       "3       K Nemocnici                   2814  608224482   \n",
       "4           U Kříže                    676  724675458   \n",
       "5          Sušilova                  773/9  773110434   \n",
       "6           Kotkova                  708/1  739651671   \n",
       "7  Sídliště 1. máje                    457  775157454   \n",
       "8            Sulova                   1356  605471740   \n",
       "9         Klatovská                    641  777975848   \n",
       "\n",
       "                                                Web  LatZarizeni  LngZarizeni   \n",
       "0                      http://www.alenanetolicka.cz    50.093365    14.350673  \\\n",
       "1                  http://www.logopedickaporadna.cz    49.649315    17.322386   \n",
       "2    https://www.nemjc.cz/usni-nosni-krcni-oddeleni    50.439034    15.357051   \n",
       "3                     https://www.luckylogopedie.cz    50.143688    14.093281   \n",
       "4                        https://www.logoberuska.cz    50.043137    16.087875   \n",
       "5                       http://www.logopediebrno.eu    49.205780    16.599834   \n",
       "6                        http://cerstvalogopedie.cz    48.849720    16.056601   \n",
       "7  https://ambulance-klinicke-logopedie3.webnode.cz    50.166298    16.464718   \n",
       "8            http://www.komplexni-mluvni-terapie.cz    49.965481    14.381027   \n",
       "9                   https://www.logopedienyrsko.cz/    49.295700    13.149357   \n",
       "\n",
       "    ODBORNOST  \n",
       "0  LogopedieF  \n",
       "1  LogopedieF  \n",
       "2  LogopedieF  \n",
       "3  LogopedieF  \n",
       "4  LogopedieF  \n",
       "5  LogopedieF  \n",
       "6  LogopedieF  \n",
       "7  LogopedieF  \n",
       "8  LogopedieF  \n",
       "9  LogopedieF  "
      ]
     },
     "execution_count": 36,
     "metadata": {},
     "output_type": "execute_result"
    }
   ],
   "source": [
    "df.head(10)"
   ]
  },
  {
   "cell_type": "code",
   "execution_count": 37,
   "metadata": {},
   "outputs": [],
   "source": [
    "df.to_csv('firmy_output_final.csv', index=False)"
   ]
  }
 ],
 "metadata": {
  "kernelspec": {
   "display_name": "Python 3",
   "language": "python",
   "name": "python3"
  },
  "language_info": {
   "codemirror_mode": {
    "name": "ipython",
    "version": 3
   },
   "file_extension": ".py",
   "mimetype": "text/x-python",
   "name": "python",
   "nbconvert_exporter": "python",
   "pygments_lexer": "ipython3",
   "version": "3.11.3"
  },
  "orig_nbformat": 4
 },
 "nbformat": 4,
 "nbformat_minor": 2
}
